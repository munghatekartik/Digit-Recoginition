{
  "nbformat": 4,
  "nbformat_minor": 0,
  "metadata": {
    "colab": {
      "name": "DigitRecognition.ipynb",
      "version": "0.3.2",
      "provenance": []
    },
    "kernelspec": {
      "name": "python3",
      "display_name": "Python 3"
    }
  },
  "cells": [
    {
      "cell_type": "code",
      "metadata": {
        "id": "FjsLPedm_07G",
        "colab_type": "code",
        "colab": {}
      },
      "source": [
        "from __future__ import absolute_import, division, print_function, unicode_literals"
      ],
      "execution_count": 0,
      "outputs": []
    },
    {
      "cell_type": "code",
      "metadata": {
        "id": "PN8BMY1vAezH",
        "colab_type": "code",
        "colab": {}
      },
      "source": [
        "#import Tensorflow\n",
        "import tensorflow as tf"
      ],
      "execution_count": 0,
      "outputs": []
    },
    {
      "cell_type": "markdown",
      "metadata": {
        "id": "xegzV5djBFvt",
        "colab_type": "text"
      },
      "source": [
        "Load and prepare the MNIST Dataset, Convert the samples from integers to floating point numbers."
      ]
    },
    {
      "cell_type": "code",
      "metadata": {
        "id": "aMwI0L9OAi8N",
        "colab_type": "code",
        "colab": {
          "base_uri": "https://localhost:8080/",
          "height": 51
        },
        "outputId": "46a41edc-4801-40f6-fad3-25e3f266f1d8"
      },
      "source": [
        "mnist = tf.keras.datasets.mnist\n",
        "\n",
        "(x_train, y_train), (x_test, y_test) = mnist.load_data()\n",
        "x_train, x_test = x_train/255.0, x_test/255.0"
      ],
      "execution_count": 4,
      "outputs": [
        {
          "output_type": "stream",
          "text": [
            "Downloading data from https://storage.googleapis.com/tensorflow/tf-keras-datasets/mnist.npz\n",
            "11493376/11490434 [==============================] - 0s 0us/step\n"
          ],
          "name": "stdout"
        }
      ]
    },
    {
      "cell_type": "markdown",
      "metadata": {
        "id": "I3qYL9i8CR_T",
        "colab_type": "text"
      },
      "source": [
        "Bulid the Sequential model by stacking layers. Choosing an optimizer and loss function for training."
      ]
    },
    {
      "cell_type": "code",
      "metadata": {
        "id": "zQ6Fd5HQB_s4",
        "colab_type": "code",
        "colab": {}
      },
      "source": [
        "model = tf.keras.models.Sequential([\n",
        "    tf.keras.layers.Flatten(input_shape=(28, 28)),\n",
        "    tf.keras.layers.Dense(128, activation = 'relu'),\n",
        "    tf.keras.layers.Dropout(0.2),\n",
        "    tf.keras.layers.Dense(10, activation = 'softmax')\n",
        "])\n",
        "\n",
        "model.compile(optimizer = 'adam', loss= 'sparse_categorical_crossentropy')"
      ],
      "execution_count": 0,
      "outputs": []
    },
    {
      "cell_type": "markdown",
      "metadata": {
        "id": "GsJwSNYqsEi-",
        "colab_type": "text"
      },
      "source": [
        "Train and evaluate the model"
      ]
    },
    {
      "cell_type": "code",
      "metadata": {
        "id": "IWfQDb-wrTC-",
        "colab_type": "code",
        "colab": {
          "base_uri": "https://localhost:8080/",
          "height": 1000
        },
        "outputId": "78d4deb8-6274-4be9-a34e-30b1c1448141"
      },
      "source": [
        "model.fit(x_train, y_train, epochs = 50)\n",
        "model.evaluate(x_test, y_test)"
      ],
      "execution_count": 15,
      "outputs": [
        {
          "output_type": "stream",
          "text": [
            "Epoch 1/50\n",
            "60000/60000 [==============================] - 4s 73us/sample - loss: 0.0411\n",
            "Epoch 2/50\n",
            "60000/60000 [==============================] - 4s 73us/sample - loss: 0.0392\n",
            "Epoch 3/50\n",
            "60000/60000 [==============================] - 4s 74us/sample - loss: 0.0365\n",
            "Epoch 4/50\n",
            "60000/60000 [==============================] - 4s 72us/sample - loss: 0.0343\n",
            "Epoch 5/50\n",
            "60000/60000 [==============================] - 4s 73us/sample - loss: 0.0308\n",
            "Epoch 6/50\n",
            "60000/60000 [==============================] - 4s 74us/sample - loss: 0.0316\n",
            "Epoch 7/50\n",
            "60000/60000 [==============================] - 4s 71us/sample - loss: 0.0299\n",
            "Epoch 8/50\n",
            "60000/60000 [==============================] - 4s 73us/sample - loss: 0.0286\n",
            "Epoch 9/50\n",
            "60000/60000 [==============================] - 4s 73us/sample - loss: 0.0285\n",
            "Epoch 10/50\n",
            "60000/60000 [==============================] - 4s 72us/sample - loss: 0.0270\n",
            "Epoch 11/50\n",
            "60000/60000 [==============================] - 4s 73us/sample - loss: 0.0247\n",
            "Epoch 12/50\n",
            "60000/60000 [==============================] - 4s 71us/sample - loss: 0.0256\n",
            "Epoch 13/50\n",
            "60000/60000 [==============================] - 4s 73us/sample - loss: 0.0238\n",
            "Epoch 14/50\n",
            "60000/60000 [==============================] - 4s 72us/sample - loss: 0.0240\n",
            "Epoch 15/50\n",
            "60000/60000 [==============================] - 4s 72us/sample - loss: 0.0232\n",
            "Epoch 16/50\n",
            "60000/60000 [==============================] - 4s 72us/sample - loss: 0.0236\n",
            "Epoch 17/50\n",
            "60000/60000 [==============================] - 5s 75us/sample - loss: 0.0220\n",
            "Epoch 18/50\n",
            "60000/60000 [==============================] - 4s 74us/sample - loss: 0.0196\n",
            "Epoch 19/50\n",
            "60000/60000 [==============================] - 5s 76us/sample - loss: 0.0219\n",
            "Epoch 20/50\n",
            "60000/60000 [==============================] - 5s 75us/sample - loss: 0.0199\n",
            "Epoch 21/50\n",
            "60000/60000 [==============================] - 4s 75us/sample - loss: 0.0210\n",
            "Epoch 22/50\n",
            "60000/60000 [==============================] - 4s 74us/sample - loss: 0.0206\n",
            "Epoch 23/50\n",
            "60000/60000 [==============================] - 5s 76us/sample - loss: 0.0189\n",
            "Epoch 24/50\n",
            "60000/60000 [==============================] - 4s 74us/sample - loss: 0.0179\n",
            "Epoch 25/50\n",
            "60000/60000 [==============================] - 4s 74us/sample - loss: 0.0200\n",
            "Epoch 26/50\n",
            "60000/60000 [==============================] - 4s 73us/sample - loss: 0.0188\n",
            "Epoch 27/50\n",
            "60000/60000 [==============================] - 4s 74us/sample - loss: 0.0177\n",
            "Epoch 28/50\n",
            "60000/60000 [==============================] - 4s 72us/sample - loss: 0.0190\n",
            "Epoch 29/50\n",
            "60000/60000 [==============================] - 4s 73us/sample - loss: 0.0175\n",
            "Epoch 30/50\n",
            "60000/60000 [==============================] - 4s 74us/sample - loss: 0.0172\n",
            "Epoch 31/50\n",
            "60000/60000 [==============================] - 4s 74us/sample - loss: 0.0170\n",
            "Epoch 32/50\n",
            "60000/60000 [==============================] - 5s 78us/sample - loss: 0.0191\n",
            "Epoch 33/50\n",
            "60000/60000 [==============================] - 5s 77us/sample - loss: 0.0189\n",
            "Epoch 34/50\n",
            "60000/60000 [==============================] - 5s 77us/sample - loss: 0.0147\n",
            "Epoch 35/50\n",
            "60000/60000 [==============================] - 4s 74us/sample - loss: 0.0176\n",
            "Epoch 36/50\n",
            "60000/60000 [==============================] - 4s 74us/sample - loss: 0.0181\n",
            "Epoch 37/50\n",
            "60000/60000 [==============================] - 5s 78us/sample - loss: 0.0151\n",
            "Epoch 38/50\n",
            "60000/60000 [==============================] - 5s 81us/sample - loss: 0.0172\n",
            "Epoch 39/50\n",
            "60000/60000 [==============================] - 4s 73us/sample - loss: 0.0136\n",
            "Epoch 40/50\n",
            "60000/60000 [==============================] - 4s 73us/sample - loss: 0.0172\n",
            "Epoch 41/50\n",
            "60000/60000 [==============================] - 4s 73us/sample - loss: 0.0151\n",
            "Epoch 42/50\n",
            "60000/60000 [==============================] - 4s 73us/sample - loss: 0.0144\n",
            "Epoch 43/50\n",
            "60000/60000 [==============================] - 4s 74us/sample - loss: 0.0163\n",
            "Epoch 44/50\n",
            "60000/60000 [==============================] - 5s 81us/sample - loss: 0.0166\n",
            "Epoch 45/50\n",
            "60000/60000 [==============================] - 5s 79us/sample - loss: 0.0154\n",
            "Epoch 46/50\n",
            "60000/60000 [==============================] - 4s 74us/sample - loss: 0.0152\n",
            "Epoch 47/50\n",
            "60000/60000 [==============================] - 4s 74us/sample - loss: 0.0138\n",
            "Epoch 48/50\n",
            "60000/60000 [==============================] - 4s 73us/sample - loss: 0.0158\n",
            "Epoch 49/50\n",
            "60000/60000 [==============================] - 4s 73us/sample - loss: 0.0157\n",
            "Epoch 50/50\n",
            "60000/60000 [==============================] - 4s 72us/sample - loss: 0.0149\n",
            "10000/10000 [==============================] - 0s 39us/sample - loss: 0.1284\n"
          ],
          "name": "stdout"
        },
        {
          "output_type": "execute_result",
          "data": {
            "text/plain": [
              "0.12843992733123946"
            ]
          },
          "metadata": {
            "tags": []
          },
          "execution_count": 15
        }
      ]
    },
    {
      "cell_type": "code",
      "metadata": {
        "id": "teRDFWrSsaca",
        "colab_type": "code",
        "colab": {}
      },
      "source": [
        ""
      ],
      "execution_count": 0,
      "outputs": []
    }
  ]
}